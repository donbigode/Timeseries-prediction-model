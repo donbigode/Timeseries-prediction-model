{
 "cells": [
  {
   "cell_type": "code",
   "execution_count": 2,
   "metadata": {},
   "outputs": [],
   "source": [
    "import pandas as pd\n",
    "import openpyxl\n",
    "import numpy as np\n",
    "import os\n",
    "import glob2\n",
    "import glob\n",
    "import random\n",
    "import sklearn\n",
    "import ntpath\n",
    "import json\n",
    "import datetime\n",
    "import matplotlib.pyplot as plt\n",
    "import seaborn as sns\n",
    "import matplotlib.dates as mdates\n",
    "import matplotlib.ticker as ticker\n",
    "from nltk.test.portuguese_en_fixt import setup_module\n",
    "import nltk\n"
   ]
  },
  {
   "cell_type": "code",
   "execution_count": 73,
   "metadata": {},
   "outputs": [],
   "source": [
    "class read_excel():\n",
    "    def __init__(self, file_name):\n",
    "        self.file_name = file_name\n",
    "        self.df = pd.read_excel(self.file_name,engine=openpyxl)\n",
    "\n",
    "    def get_df(self):\n",
    "        return self.df\n",
    "\n",
    "    def get_file_name(self):\n",
    "        return self.file_name\n",
    "\n",
    "    def get_file_path(self):\n",
    "        return os.path.dirname(self.file_name)\n",
    "\n",
    "    def get_file_name_without_extension(self):\n",
    "        return ntpath.basename(self.file_name).split('.')[0]\n",
    "\n",
    "    def get_file_name_with_extension(self):\n",
    "        return ntpath.basename(self.file_name)\n",
    "\n",
    "    def get_file_name_extension(self):\n",
    "        return ntpath.basename(self.file_name).split('.')[1]\n",
    "\n",
    "    def get_file_name_without_extension_and_path(self):\n",
    "        return ntpath.basename(self.file_name).split('.')[0]\n",
    "\n",
    "    def get_file_name_with_extension_and_path(self):\n",
    "        return self.file_name\n",
    "\n",
    "    def get_file_name_extension_and_path(self):\n",
    "        return ntpath.basename(self.file_name).split('.')[1]\n",
    "\n",
    "    def get_file_name_without_extension_and_path_and_separator(self):\n",
    "        return ntpath.basename(self.file_name).split('.')[0].replace('\\\\', '/')\n",
    "\n",
    "    def get_file_name_with_extension_and_path_and_separator(self):\n",
    "        return self.file_name.replace('\\\\', '/')\n",
    "\n",
    "    def get_file_name_extension_and_path_and_separator(self):\n",
    "        return ntpath.basename(self.file_name).split('.')[1].replace('\\\\', '/')\n",
    "\n",
    "    def get_file_name_without_extension_and_path_and_separator_and_dot(self):\n",
    "        return ntpath\n",
    "\n"
   ]
  },
  {
   "cell_type": "code",
   "execution_count": 102,
   "metadata": {},
   "outputs": [],
   "source": [
    "#Cria dataframe de inventário e produtos (Dimensão de classificação)\n",
    "dataframe_inventario = pd.read_excel('Files/Inventario.xlsx', engine='openpyxl')\n",
    "#Cria dataframe de transações (Tabela Fato)\n",
    "dataframe_transacoes_produto = pd.read_excel('Files/Transações_por_produto.xlsx', engine='openpyxl')\n",
    "#Cria dataframe de transações por venda (Tabela Fato complementar)\n",
    "dataframe_transacoes_vendas = pd.read_excel('Files/Transações_vendas.xlsx', engine='openpyxl')\n",
    "#"
   ]
  },
  {
   "cell_type": "code",
   "execution_count": 98,
   "metadata": {},
   "outputs": [],
   "source": []
  },
  {
   "cell_type": "code",
   "execution_count": 101,
   "metadata": {},
   "outputs": [
    {
     "data": {
      "text/html": [
       "<div>\n",
       "<style scoped>\n",
       "    .dataframe tbody tr th:only-of-type {\n",
       "        vertical-align: middle;\n",
       "    }\n",
       "\n",
       "    .dataframe tbody tr th {\n",
       "        vertical-align: top;\n",
       "    }\n",
       "\n",
       "    .dataframe thead th {\n",
       "        text-align: right;\n",
       "    }\n",
       "</style>\n",
       "<table border=\"1\" class=\"dataframe\">\n",
       "  <thead>\n",
       "    <tr style=\"text-align: right;\">\n",
       "      <th></th>\n",
       "      <th>Descrição</th>\n",
       "      <th>Código</th>\n",
       "      <th>Estoque Atual</th>\n",
       "      <th>Estoque Reservado</th>\n",
       "      <th>Estoque Disponível</th>\n",
       "      <th>Preço</th>\n",
       "      <th>Categoria</th>\n",
       "      <th>Código Extra</th>\n",
       "      <th>Unidade</th>\n",
       "      <th>Fornecedor Principal</th>\n",
       "      <th>...</th>\n",
       "      <th>Comissão</th>\n",
       "      <th>Localização</th>\n",
       "      <th>Promoção</th>\n",
       "      <th>Data Inicial</th>\n",
       "      <th>Data Final</th>\n",
       "      <th>Preço Promocional</th>\n",
       "      <th>Status</th>\n",
       "      <th>Kit / Combo</th>\n",
       "      <th>EAN / GTIN</th>\n",
       "      <th>Exportar para balança</th>\n",
       "    </tr>\n",
       "  </thead>\n",
       "  <tbody>\n",
       "  </tbody>\n",
       "</table>\n",
       "<p>0 rows × 36 columns</p>\n",
       "</div>"
      ],
      "text/plain": [
       "Empty DataFrame\n",
       "Columns: [Descrição, Código, Estoque Atual, Estoque Reservado, Estoque Disponível, Preço, Categoria, Código Extra, Unidade, Fornecedor Principal, Código Ref., Marca, Estoque Min., Estoque Max., Abaixo Min., Repor, Prêmio ?, Pontos Nec., Tributação, NCM, CEST, Peso Líq., Peso Bruto, Incluído em, Alterado em, Alterado por, Comissão, Localização, Promoção, Data Inicial, Data Final, Preço Promocional, Status, Kit / Combo, EAN / GTIN, Exportar para balança]\n",
       "Index: []\n",
       "\n",
       "[0 rows x 36 columns]"
      ]
     },
     "execution_count": 101,
     "metadata": {},
     "output_type": "execute_result"
    }
   ],
   "source": [
    "\n",
    "data_frame_inventario"
   ]
  },
  {
   "cell_type": "code",
   "execution_count": null,
   "metadata": {},
   "outputs": [],
   "source": []
  },
  {
   "cell_type": "code",
   "execution_count": null,
   "metadata": {},
   "outputs": [],
   "source": []
  }
 ],
 "metadata": {
  "interpreter": {
   "hash": "33b0e9316c6efd50044b3cff64466485d6edb27939f04b9517e4b9101aede369"
  },
  "kernelspec": {
   "display_name": "Python 3.8.6 64-bit",
   "language": "python",
   "name": "python3"
  },
  "language_info": {
   "codemirror_mode": {
    "name": "ipython",
    "version": 3
   },
   "file_extension": ".py",
   "mimetype": "text/x-python",
   "name": "python",
   "nbconvert_exporter": "python",
   "pygments_lexer": "ipython3",
   "version": "3.8.6"
  },
  "orig_nbformat": 4
 },
 "nbformat": 4,
 "nbformat_minor": 2
}
